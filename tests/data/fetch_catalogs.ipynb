{
 "cells": [
  {
   "cell_type": "code",
   "execution_count": null,
   "id": "f850dffe",
   "metadata": {},
   "outputs": [],
   "source": [
    "import lsdb"
   ]
  },
  {
   "cell_type": "code",
   "execution_count": null,
   "id": "47931d45",
   "metadata": {},
   "outputs": [],
   "source": [
    "full_delve = lsdb.read_hats('https://data.lsdb.io/hats/delve_dr2', columns=['QUICK_OBJECT_ID',\n",
    " 'RA',\n",
    " 'DEC',\n",
    " 'MAG_PSF_G',\n",
    " 'MAG_PSF_R',\n",
    " 'MAG_PSF_I',\n",
    " 'MAG_PSF_Z',\n",
    " 'MAGERR_PSF_G',\n",
    " 'MAGERR_PSF_R',\n",
    " 'MAGERR_PSF_I',\n",
    " 'MAGERR_PSF_Z',])"
   ]
  },
  {
   "cell_type": "code",
   "execution_count": null,
   "id": "95fe1e5f",
   "metadata": {},
   "outputs": [],
   "source": [
    "full_delve.plot_pixels()"
   ]
  },
  {
   "cell_type": "code",
   "execution_count": null,
   "id": "6608fc3f",
   "metadata": {},
   "outputs": [],
   "source": [
    "full_delve.all_columns"
   ]
  },
  {
   "cell_type": "code",
   "execution_count": null,
   "id": "9e2cd312",
   "metadata": {},
   "outputs": [],
   "source": [
    "cone_delve = full_delve.cone_search(ra=8.8567, dec=11.8167, radius_arcsec=25*60)"
   ]
  },
  {
   "cell_type": "code",
   "execution_count": null,
   "id": "0655f7f2",
   "metadata": {},
   "outputs": [],
   "source": [
    "cone_delve.plot_pixels()"
   ]
  },
  {
   "cell_type": "code",
   "execution_count": null,
   "id": "2b5d731f",
   "metadata": {},
   "outputs": [],
   "source": [
    "cone_delve.to_hats(\"/home/delucchi/git/xmatch/lsdb-crossmatch/tests/data/m67/delve_cone\", overwrite=True)"
   ]
  },
  {
   "cell_type": "code",
   "execution_count": null,
   "id": "40016e6d",
   "metadata": {},
   "outputs": [],
   "source": [
    "full_ps1 = lsdb.read_hats('s3://stpubdata/panstarrs/ps1/public/hats/otmo', margin_cache='s3://stpubdata/panstarrs/ps1/public/hats/otmo_10arcs',columns=['objName',\n",
    " 'objID',\n",
    " 'surveyID',\n",
    " 'qualityFlag',\n",
    " 'raMean',\n",
    " 'decMean',\n",
    " 'raMeanErr',\n",
    " 'decMeanErr',\n",
    " 'pmra',\n",
    " 'pmdec',\n",
    " 'pmraErr',\n",
    " 'pmdecErr',\n",
    " 'epochMean',\n",
    " 'gMeanPSFMag',\n",
    " 'gMeanPSFMagErr',\n",
    " 'gMeanPSFMagStd',\n",
    " 'gMeanPSFMagNpt',\n",
    " 'gMeanPSFMagMin',\n",
    " 'gMeanPSFMagMax',\n",
    " 'gFlags',\n",
    " 'rMeanPSFMag',\n",
    " 'rMeanPSFMagErr',\n",
    " 'rMeanPSFMagStd',\n",
    " 'rMeanPSFMagNpt',\n",
    " 'rMeanPSFMagMin',\n",
    " 'rMeanPSFMagMax',\n",
    " 'rFlags',\n",
    " 'iMeanPSFMag',\n",
    " 'iMeanPSFMagErr',\n",
    " 'iMeanPSFMagStd',\n",
    " 'iMeanPSFMagNpt',\n",
    " 'iMeanPSFMagMin',\n",
    " 'iMeanPSFMagMax',\n",
    " 'iFlags',\n",
    " 'zMeanPSFMag',\n",
    " 'zMeanPSFMagErr',\n",
    " 'zMeanPSFMagStd',\n",
    " 'zMeanPSFMagNpt',\n",
    " 'zMeanPSFMagMin',\n",
    " 'zMeanPSFMagMax',\n",
    " 'zFlags',\n",
    " 'yMeanPSFMag',\n",
    " 'yMeanPSFMagErr',\n",
    " 'yMeanPSFMagStd',\n",
    " 'yMeanPSFMagNpt',\n",
    " 'yMeanPSFMagMin',\n",
    " 'yMeanPSFMagMax',\n",
    " 'yFlags'])"
   ]
  },
  {
   "cell_type": "code",
   "execution_count": null,
   "id": "cb239cfb",
   "metadata": {},
   "outputs": [],
   "source": [
    "full_ps1.plot_pixels()"
   ]
  },
  {
   "cell_type": "code",
   "execution_count": null,
   "id": "6055e6de",
   "metadata": {},
   "outputs": [],
   "source": [
    "full_ps1.hc_structure.catalog_info"
   ]
  },
  {
   "cell_type": "code",
   "execution_count": null,
   "id": "08a74b5d",
   "metadata": {},
   "outputs": [],
   "source": [
    "cone_ps1 = full_ps1.cone_search(ra=8.8567, dec=11.8167, radius_arcsec=25*60,fine=True)"
   ]
  },
  {
   "cell_type": "code",
   "execution_count": null,
   "id": "94d9db03",
   "metadata": {},
   "outputs": [],
   "source": [
    "cone_ps1.plot_pixels()"
   ]
  },
  {
   "cell_type": "code",
   "execution_count": null,
   "id": "2e8db5f9",
   "metadata": {},
   "outputs": [],
   "source": [
    "cone_ps1.to_hats(\"/home/delucchi/git/xmatch/lsdb-crossmatch/tests/data/m67/ps1_cone\")"
   ]
  },
  {
   "cell_type": "code",
   "execution_count": null,
   "id": "3a9876e6",
   "metadata": {},
   "outputs": [],
   "source": []
  }
 ],
 "metadata": {
  "kernelspec": {
   "display_name": "june",
   "language": "python",
   "name": "python3"
  },
  "language_info": {
   "codemirror_mode": {
    "name": "ipython",
    "version": 3
   },
   "file_extension": ".py",
   "mimetype": "text/x-python",
   "name": "python",
   "nbconvert_exporter": "python",
   "pygments_lexer": "ipython3",
   "version": "3.12.3"
  }
 },
 "nbformat": 4,
 "nbformat_minor": 5
}
